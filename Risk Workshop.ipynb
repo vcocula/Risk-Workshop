{
 "metadata": {
  "name": ""
 },
 "nbformat": 3,
 "nbformat_minor": 0,
 "worksheets": [
  {
   "cells": [
    {
     "cell_type": "markdown",
     "metadata": {},
     "source": [
      "<h1>Risk Workshop</h1>\n",
      "\t<p>An introduction to financial factor-based risk models.</p>\n",
      "    <p>The big spoiler:</p>\n",
      "    <ul>\n",
      "    \t<li>Risk is standard deviation of returns</li>\n",
      "    \t<li>Risks are non-additive</li>\n",
      "    \t<li>Systematic risk frameworks/models can be created</li>\n",
      "    \t<li>Risk models identify the sources of risk and its components</li>\n",
      "    </ul>"
     ]
    },
    {
     "cell_type": "markdown",
     "metadata": {},
     "source": [
      "<h2>Definition of Risk</h2>\n",
      "Time series of asset prices $S_t$ follow lognormal distribution\n",
      " $$ S_{t+1} = S_{t} e^{r_t} $$\n",
      "where the normal distribution of returns $r_t$ describes probabilities of all possible outcomes.\n",
      "<p>Risk is our level of confidence (or lack thereof) in future outcomes:</p>\n",
      " <ul>\n",
      " \t<li>Standard deviation $\\sigma$ is spread of distribution about its mean</li>\n",
      " \t<li>Standard deviation often called 'volatility'</li>\n",
      " \t<li>Variance $\\sigma^2$ is square of standard deviation</li>\n",
      " </ul>"
     ]
    },
    {
     "cell_type": "markdown",
     "metadata": {},
     "source": [
      "<h2>Properties of Standard Deviation</h2>\n",
      " What is the risk of a portfolio of two assets of risk $\\sigma_1$ and $\\sigma_2$, equally weighted?\n",
      "$$ \\sigma_P = \\sqrt{\\left( \\frac{1}{2} \\sigma_1 \\right)^2 + \\left( \\frac{1}{2} \\sigma_2 \\right)^2 + 2 \\rho_{12} \\left( \\frac{1}{2} \\sigma_1 \\right) \\left( \\frac{1}{2} \\sigma_2 \\right)} $$\n",
      " where $\\rho_{12}$ is correlation of returns of the two assets. Therefore:\n",
      " $$ \\sigma_P \\leq \\frac{1}{2} \\sigma_1 + \\frac{1}{2} \\sigma_2 $$\n",
      " <p>Properties of risk:</p>\n",
      " <ul>\n",
      " \t<li>Non-additive</li>\n",
      " \t<li>Whole is less than sum of its parts: <b>Diversification</b></li>\n",
      " </ul>\n",
      "<p>Consequences for portfolio management:</p>\n",
      " <ul>\n",
      " \t<li>Individual assets' risk measures are meaningless unless in the context of the portfolio</li>\n",
      " \t<li>Calculating portfolio risk becomes increasingly intractable as number of assets increases</li>\n",
      " </ul>"
     ]
    },
    {
     "cell_type": "markdown",
     "metadata": {},
     "source": [
      "<h2>Risk Models</h2>\n",
      "Recall the returns of an asset can be represented as\n",
      "$$ r(t) = \\beta . r_M + \\theta $$\n",
      "where $\\beta$ with respect to market returns $r_M$ is\n",
      "$$ \\beta = \\frac{Cov(r,r_M)}{Var(r_M)} $$\n",
      "<p>Generalized to more than 1 market factor:</p>\n",
      "$$ r(t) = \\sum_k L_k r_k(t) + \\theta(t) $$\n",
      "<p>In matrix notation, the risk of the asset becomes:</p>\n",
      "$$ \\sigma^2 = L^T . Cov . L $$\n",
      "where $Cov$ is the covariance matrix of the $k$ factors"
     ]
    },
    {
     "cell_type": "markdown",
     "metadata": {},
     "source": [
      "<h2>Portfolio Risk and Marginals</h2>\n",
      "We can extend the framework to a portfolio of $i$ assets, of allocation weights $w_i$. The portfolio risk $\\sigma$ is such that\n",
      "$$ \\sigma^2 = w^T . L^T . Cov . L . w $$ \n",
      "Most interestingly, we can decompose the portfolio risk in marginal contributions for each security exposure, or each market factor exposure. When summed up, these contributions add up to the portfolio risk.\n",
      "<p>Marginal contribution of security $i$ to the portfolio risk:</p>\n",
      "$$ \\frac{\\partial \\sigma}{\\partial w_i} = \\frac{1}{\\sigma} [L^T . Cov . L . w] $$\n",
      "A practical use for these would be to isolate securities responsible for a disproportionate amount of investment risk compared to their absolute portfolio allocation.\n",
      "<p>Marginal contribution of factor k to the portfolio risk:</p>\n",
      "$$ \\partial \\sigma_k = \\frac{1}{\\sigma} [ Cov . L . w]$$\n",
      "This is a powerful metric that allows us to understand which market exposures tend to increase or decrease our portfolio risk. It gives us a systematic way to diversify away investment risk."
     ]
    },
    {
     "cell_type": "code",
     "collapsed": false,
     "input": [
      "import numpy as np\n",
      "import matplotlib.pyplot as plt\n",
      "%matplotlib inline\n",
      "import pandas as pd\n",
      "import pandas.io.data\n",
      "from pandas import Series, DataFrame\n",
      "import datetime\n",
      "from datetime import date, timedelta"
     ],
     "language": "python",
     "metadata": {},
     "outputs": [],
     "prompt_number": 98
    },
    {
     "cell_type": "code",
     "collapsed": false,
     "input": [
      "def get_NAV_Returns(assetList):\n",
      "    endDate = date.today() - timedelta(days = 1)\n",
      "    beginDate = date.today() - timedelta(days = 366) # we take 1 year of returns data into consideration\n",
      "    NAV_df = pd.io.data.get_data_yahoo(assetList,start=beginDate,end=endDate)['Adj Close']\n",
      "    # calculate daily returns\n",
      "    NAV_Returns_df = NAV_df / NAV_df.shift(1) - 1\n",
      "    # first value in time series will be NaN, replace by mean as first approximation of likely value\n",
      "    NAV_Returns_df = NAV_Returns_df.fillna(NAV_Returns_df.mean())\n",
      "    # return Series or DataFrame\n",
      "    return NAV_Returns_df"
     ],
     "language": "python",
     "metadata": {},
     "outputs": [],
     "prompt_number": 99
    },
    {
     "cell_type": "code",
     "collapsed": false,
     "input": [
      "def get_Coeff_Determination(realizedSeries, modeledSeries): # calculates regression's coefficient of determination (R square)\n",
      "    SStot = (realizedSeries - realizedSeries.mean())**2\n",
      "    SStot = SStot.sum()\n",
      "    SSres = (realizedSeries - modeledSeries)**2\n",
      "    SSres = SSres.sum()\n",
      "    return (1 - SSres / SStot)"
     ],
     "language": "python",
     "metadata": {},
     "outputs": [],
     "prompt_number": 100
    },
    {
     "cell_type": "heading",
     "level": 2,
     "metadata": {},
     "source": [
      "Defining Risk Model"
     ]
    },
    {
     "cell_type": "code",
     "collapsed": false,
     "input": [
      "RiskFactors = ['AGG', 'HYG', 'TIP', 'IEMG', 'IEFA', 'IJR', 'IVV'] # List of tickers used as market factors"
     ],
     "language": "python",
     "metadata": {},
     "outputs": [],
     "prompt_number": 101
    },
    {
     "cell_type": "raw",
     "metadata": {},
     "source": [
      "An Example of simple risk model factors would include:\n",
      "AGG: iShares Core Total US Bond Market ETF\n",
      "HYG: iShares iBoxx High Yield Corporate Bd\n",
      "TIP: iShares Barclays TIPS Bond\n",
      "IEMG: iShares Core MSCI Emerging Markets ETF\n",
      "IEFA: iShares Core MSCI EAFE ETF\n",
      "IJR: iShares Core S&P Small-Cap ETF\n",
      "IVV: iShares Core S&P 500 ETF"
     ]
    },
    {
     "cell_type": "code",
     "collapsed": false,
     "input": [
      "RiskFactors_Returns_df = get_NAV_Returns(RiskFactors)\n",
      "RiskFactors_Returns_df.head()"
     ],
     "language": "python",
     "metadata": {},
     "outputs": [
      {
       "html": [
        "<div style=\"max-height:1000px;max-width:1500px;overflow:auto;\">\n",
        "<table border=\"1\" class=\"dataframe\">\n",
        "  <thead>\n",
        "    <tr style=\"text-align: right;\">\n",
        "      <th></th>\n",
        "      <th>AGG</th>\n",
        "      <th>HYG</th>\n",
        "      <th>IEFA</th>\n",
        "      <th>IEMG</th>\n",
        "      <th>IJR</th>\n",
        "      <th>IVV</th>\n",
        "      <th>TIP</th>\n",
        "    </tr>\n",
        "    <tr>\n",
        "      <th>Date</th>\n",
        "      <th></th>\n",
        "      <th></th>\n",
        "      <th></th>\n",
        "      <th></th>\n",
        "      <th></th>\n",
        "      <th></th>\n",
        "      <th></th>\n",
        "    </tr>\n",
        "  </thead>\n",
        "  <tbody>\n",
        "    <tr>\n",
        "      <th>2013-06-12</th>\n",
        "      <td> 0.000117</td>\n",
        "      <td> 0.000375</td>\n",
        "      <td> 0.000796</td>\n",
        "      <td> 0.000559</td>\n",
        "      <td> 0.000869</td>\n",
        "      <td> 0.000817</td>\n",
        "      <td> 0.000071</td>\n",
        "    </tr>\n",
        "    <tr>\n",
        "      <th>2013-06-13</th>\n",
        "      <td> 0.004914</td>\n",
        "      <td> 0.011454</td>\n",
        "      <td> 0.016148</td>\n",
        "      <td> 0.016529</td>\n",
        "      <td> 0.016421</td>\n",
        "      <td> 0.015178</td>\n",
        "      <td> 0.007664</td>\n",
        "    </tr>\n",
        "    <tr>\n",
        "      <th>2013-06-14</th>\n",
        "      <td> 0.000282</td>\n",
        "      <td> 0.001258</td>\n",
        "      <td>-0.011729</td>\n",
        "      <td>-0.015404</td>\n",
        "      <td>-0.007857</td>\n",
        "      <td>-0.006364</td>\n",
        "      <td>-0.000884</td>\n",
        "    </tr>\n",
        "    <tr>\n",
        "      <th>2013-06-17</th>\n",
        "      <td>-0.000752</td>\n",
        "      <td>-0.000114</td>\n",
        "      <td> 0.013208</td>\n",
        "      <td> 0.009126</td>\n",
        "      <td> 0.006580</td>\n",
        "      <td> 0.008207</td>\n",
        "      <td>-0.003275</td>\n",
        "    </tr>\n",
        "    <tr>\n",
        "      <th>2013-06-18</th>\n",
        "      <td>-0.000376</td>\n",
        "      <td> 0.002399</td>\n",
        "      <td> 0.006801</td>\n",
        "      <td> 0.001938</td>\n",
        "      <td> 0.011856</td>\n",
        "      <td> 0.007277</td>\n",
        "      <td> 0.002753</td>\n",
        "    </tr>\n",
        "  </tbody>\n",
        "</table>\n",
        "<p>5 rows \u00d7 7 columns</p>\n",
        "</div>"
       ],
       "metadata": {},
       "output_type": "pyout",
       "prompt_number": 102,
       "text": [
        "                 AGG       HYG      IEFA      IEMG       IJR       IVV  \\\n",
        "Date                                                                     \n",
        "2013-06-12  0.000117  0.000375  0.000796  0.000559  0.000869  0.000817   \n",
        "2013-06-13  0.004914  0.011454  0.016148  0.016529  0.016421  0.015178   \n",
        "2013-06-14  0.000282  0.001258 -0.011729 -0.015404 -0.007857 -0.006364   \n",
        "2013-06-17 -0.000752 -0.000114  0.013208  0.009126  0.006580  0.008207   \n",
        "2013-06-18 -0.000376  0.002399  0.006801  0.001938  0.011856  0.007277   \n",
        "\n",
        "                 TIP  \n",
        "Date                  \n",
        "2013-06-12  0.000071  \n",
        "2013-06-13  0.007664  \n",
        "2013-06-14 -0.000884  \n",
        "2013-06-17 -0.003275  \n",
        "2013-06-18  0.002753  \n",
        "\n",
        "[5 rows x 7 columns]"
       ]
      }
     ],
     "prompt_number": 102
    },
    {
     "cell_type": "code",
     "collapsed": false,
     "input": [
      "RiskFactors_Corr = RiskFactors_Returns_df.corr() # correlation matrix between market factors \n",
      "RiskFactors_Corr"
     ],
     "language": "python",
     "metadata": {},
     "outputs": [
      {
       "html": [
        "<div style=\"max-height:1000px;max-width:1500px;overflow:auto;\">\n",
        "<table border=\"1\" class=\"dataframe\">\n",
        "  <thead>\n",
        "    <tr style=\"text-align: right;\">\n",
        "      <th></th>\n",
        "      <th>AGG</th>\n",
        "      <th>HYG</th>\n",
        "      <th>IEFA</th>\n",
        "      <th>IEMG</th>\n",
        "      <th>IJR</th>\n",
        "      <th>IVV</th>\n",
        "      <th>TIP</th>\n",
        "    </tr>\n",
        "  </thead>\n",
        "  <tbody>\n",
        "    <tr>\n",
        "      <th>AGG</th>\n",
        "      <td> 1.000000</td>\n",
        "      <td> 0.579731</td>\n",
        "      <td> 0.170778</td>\n",
        "      <td> 0.244232</td>\n",
        "      <td> 0.019627</td>\n",
        "      <td> 0.057933</td>\n",
        "      <td> 0.899373</td>\n",
        "    </tr>\n",
        "    <tr>\n",
        "      <th>HYG</th>\n",
        "      <td> 0.579731</td>\n",
        "      <td> 1.000000</td>\n",
        "      <td> 0.557061</td>\n",
        "      <td> 0.513406</td>\n",
        "      <td> 0.465481</td>\n",
        "      <td> 0.569446</td>\n",
        "      <td> 0.492395</td>\n",
        "    </tr>\n",
        "    <tr>\n",
        "      <th>IEFA</th>\n",
        "      <td> 0.170778</td>\n",
        "      <td> 0.557061</td>\n",
        "      <td> 1.000000</td>\n",
        "      <td> 0.801194</td>\n",
        "      <td> 0.735947</td>\n",
        "      <td> 0.857149</td>\n",
        "      <td> 0.102120</td>\n",
        "    </tr>\n",
        "    <tr>\n",
        "      <th>IEMG</th>\n",
        "      <td> 0.244232</td>\n",
        "      <td> 0.513406</td>\n",
        "      <td> 0.801194</td>\n",
        "      <td> 1.000000</td>\n",
        "      <td> 0.602816</td>\n",
        "      <td> 0.716401</td>\n",
        "      <td> 0.144834</td>\n",
        "    </tr>\n",
        "    <tr>\n",
        "      <th>IJR</th>\n",
        "      <td> 0.019627</td>\n",
        "      <td> 0.465481</td>\n",
        "      <td> 0.735947</td>\n",
        "      <td> 0.602816</td>\n",
        "      <td> 1.000000</td>\n",
        "      <td> 0.872863</td>\n",
        "      <td>-0.022046</td>\n",
        "    </tr>\n",
        "    <tr>\n",
        "      <th>IVV</th>\n",
        "      <td> 0.057933</td>\n",
        "      <td> 0.569446</td>\n",
        "      <td> 0.857149</td>\n",
        "      <td> 0.716401</td>\n",
        "      <td> 0.872863</td>\n",
        "      <td> 1.000000</td>\n",
        "      <td>-0.017452</td>\n",
        "    </tr>\n",
        "    <tr>\n",
        "      <th>TIP</th>\n",
        "      <td> 0.899373</td>\n",
        "      <td> 0.492395</td>\n",
        "      <td> 0.102120</td>\n",
        "      <td> 0.144834</td>\n",
        "      <td>-0.022046</td>\n",
        "      <td>-0.017452</td>\n",
        "      <td> 1.000000</td>\n",
        "    </tr>\n",
        "  </tbody>\n",
        "</table>\n",
        "<p>7 rows \u00d7 7 columns</p>\n",
        "</div>"
       ],
       "metadata": {},
       "output_type": "pyout",
       "prompt_number": 103,
       "text": [
        "           AGG       HYG      IEFA      IEMG       IJR       IVV       TIP\n",
        "AGG   1.000000  0.579731  0.170778  0.244232  0.019627  0.057933  0.899373\n",
        "HYG   0.579731  1.000000  0.557061  0.513406  0.465481  0.569446  0.492395\n",
        "IEFA  0.170778  0.557061  1.000000  0.801194  0.735947  0.857149  0.102120\n",
        "IEMG  0.244232  0.513406  0.801194  1.000000  0.602816  0.716401  0.144834\n",
        "IJR   0.019627  0.465481  0.735947  0.602816  1.000000  0.872863 -0.022046\n",
        "IVV   0.057933  0.569446  0.857149  0.716401  0.872863  1.000000 -0.017452\n",
        "TIP   0.899373  0.492395  0.102120  0.144834 -0.022046 -0.017452  1.000000\n",
        "\n",
        "[7 rows x 7 columns]"
       ]
      }
     ],
     "prompt_number": 103
    },
    {
     "cell_type": "code",
     "collapsed": false,
     "input": [
      "# Let's plot correlation matrix heat map\n",
      "plt.imshow(RiskFactors_Corr, interpolation='none', vmax = 1, vmin = -1)\n",
      "plt.colorbar()\n",
      "plt.xticks(range(len(RiskFactors_Corr)), RiskFactors_Corr.columns)\n",
      "plt.yticks(range(len(RiskFactors_Corr)), RiskFactors_Corr.columns);"
     ],
     "language": "python",
     "metadata": {},
     "outputs": [
      {
       "metadata": {},
       "output_type": "display_data",
       "png": "[encoded data removed]",
       "text": [
        "<matplotlib.figure.Figure at 0xae70d64c>"
       ]
      }
     ],
     "prompt_number": 104
    },
    {
     "cell_type": "code",
     "collapsed": false,
     "input": [
      "RiskFactors_Cov = RiskFactors_Returns_df.cov() # covariance matrix between market factors\n",
      "RiskFactors_Cov"
     ],
     "language": "python",
     "metadata": {},
     "outputs": [
      {
       "html": [
        "<div style=\"max-height:1000px;max-width:1500px;overflow:auto;\">\n",
        "<table border=\"1\" class=\"dataframe\">\n",
        "  <thead>\n",
        "    <tr style=\"text-align: right;\">\n",
        "      <th></th>\n",
        "      <th>AGG</th>\n",
        "      <th>HYG</th>\n",
        "      <th>IEFA</th>\n",
        "      <th>IEMG</th>\n",
        "      <th>IJR</th>\n",
        "      <th>IVV</th>\n",
        "      <th>TIP</th>\n",
        "    </tr>\n",
        "  </thead>\n",
        "  <tbody>\n",
        "    <tr>\n",
        "      <th>AGG</th>\n",
        "      <td> 0.000005</td>\n",
        "      <td> 0.000005</td>\n",
        "      <td> 0.000003</td>\n",
        "      <td> 0.000006</td>\n",
        "      <td> 0.000000</td>\n",
        "      <td> 0.000001</td>\n",
        "      <td> 0.000008</td>\n",
        "    </tr>\n",
        "    <tr>\n",
        "      <th>HYG</th>\n",
        "      <td> 0.000005</td>\n",
        "      <td> 0.000012</td>\n",
        "      <td> 0.000016</td>\n",
        "      <td> 0.000020</td>\n",
        "      <td> 0.000015</td>\n",
        "      <td> 0.000014</td>\n",
        "      <td> 0.000006</td>\n",
        "    </tr>\n",
        "    <tr>\n",
        "      <th>IEFA</th>\n",
        "      <td> 0.000003</td>\n",
        "      <td> 0.000016</td>\n",
        "      <td> 0.000065</td>\n",
        "      <td> 0.000072</td>\n",
        "      <td> 0.000054</td>\n",
        "      <td> 0.000047</td>\n",
        "      <td> 0.000003</td>\n",
        "    </tr>\n",
        "    <tr>\n",
        "      <th>IEMG</th>\n",
        "      <td> 0.000006</td>\n",
        "      <td> 0.000020</td>\n",
        "      <td> 0.000072</td>\n",
        "      <td> 0.000126</td>\n",
        "      <td> 0.000062</td>\n",
        "      <td> 0.000055</td>\n",
        "      <td> 0.000006</td>\n",
        "    </tr>\n",
        "    <tr>\n",
        "      <th>IJR</th>\n",
        "      <td> 0.000000</td>\n",
        "      <td> 0.000015</td>\n",
        "      <td> 0.000054</td>\n",
        "      <td> 0.000062</td>\n",
        "      <td> 0.000083</td>\n",
        "      <td> 0.000055</td>\n",
        "      <td>-0.000001</td>\n",
        "    </tr>\n",
        "    <tr>\n",
        "      <th>IVV</th>\n",
        "      <td> 0.000001</td>\n",
        "      <td> 0.000014</td>\n",
        "      <td> 0.000047</td>\n",
        "      <td> 0.000055</td>\n",
        "      <td> 0.000055</td>\n",
        "      <td> 0.000047</td>\n",
        "      <td>-0.000000</td>\n",
        "    </tr>\n",
        "    <tr>\n",
        "      <th>TIP</th>\n",
        "      <td> 0.000008</td>\n",
        "      <td> 0.000006</td>\n",
        "      <td> 0.000003</td>\n",
        "      <td> 0.000006</td>\n",
        "      <td>-0.000001</td>\n",
        "      <td>-0.000000</td>\n",
        "      <td> 0.000014</td>\n",
        "    </tr>\n",
        "  </tbody>\n",
        "</table>\n",
        "<p>7 rows \u00d7 7 columns</p>\n",
        "</div>"
       ],
       "metadata": {},
       "output_type": "pyout",
       "prompt_number": 105,
       "text": [
        "           AGG       HYG      IEFA      IEMG       IJR       IVV       TIP\n",
        "AGG   0.000005  0.000005  0.000003  0.000006  0.000000  0.000001  0.000008\n",
        "HYG   0.000005  0.000012  0.000016  0.000020  0.000015  0.000014  0.000006\n",
        "IEFA  0.000003  0.000016  0.000065  0.000072  0.000054  0.000047  0.000003\n",
        "IEMG  0.000006  0.000020  0.000072  0.000126  0.000062  0.000055  0.000006\n",
        "IJR   0.000000  0.000015  0.000054  0.000062  0.000083  0.000055 -0.000001\n",
        "IVV   0.000001  0.000014  0.000047  0.000055  0.000055  0.000047 -0.000000\n",
        "TIP   0.000008  0.000006  0.000003  0.000006 -0.000001 -0.000000  0.000014\n",
        "\n",
        "[7 rows x 7 columns]"
       ]
      }
     ],
     "prompt_number": 105
    },
    {
     "cell_type": "code",
     "collapsed": false,
     "input": [
      "def get_AssetFactorsLoadings(AssetNAV_Returns_df): # regression of asset prices onto factors, returns asset's betas\n",
      "    mat = RiskFactors_Returns_df.T.dot(RiskFactors_Returns_df)\n",
      "    mat = np.linalg.inv(mat)\n",
      "    mat2 = RiskFactors_Returns_df.T.dot(AssetNAV_Returns_df.T)\n",
      "    mat2.as_matrix\n",
      "    mat3 = mat.dot(mat2)\n",
      "    return Series(mat3, index=RiskFactors_Returns_df.columns.values)"
     ],
     "language": "python",
     "metadata": {},
     "outputs": [],
     "prompt_number": 106
    },
    {
     "cell_type": "code",
     "collapsed": false,
     "input": [
      "def get_PortfolioRisk(Wp, Lp): # calculate annualized standard deviation of return of a portfolio of N assets, using F factors\n",
      "    # Wp is the [N] vector of weights\n",
      "    # Lp is the [FxN] matrix of factors loadings\n",
      "    risk = Lp.dot(Wp)\n",
      "    risk = RiskFactors_Cov.dot(risk)\n",
      "    risk = Lp.T.dot(risk)\n",
      "    risk = Wp.T.dot(risk)\n",
      "    return np.sqrt(risk) * np.sqrt(252) * 100 # annualized, returns percentage std dev"
     ],
     "language": "python",
     "metadata": {},
     "outputs": [],
     "prompt_number": 107
    },
    {
     "cell_type": "code",
     "collapsed": false,
     "input": [
      "def get_PortfolioSecuritiesRiskMarginals(Wp, Lp):\n",
      "    portRisk = get_PortfolioRisk(Wp, Lp)\n",
      "    c_risk = Lp.dot(Wp)\n",
      "    c_risk = RiskFactors_Cov.dot(c_risk)\n",
      "    c_risk = Lp.T.dot(c_risk)\n",
      "    return c_risk * 252 / portRisk / portRisk * 100 * 100"
     ],
     "language": "python",
     "metadata": {},
     "outputs": [],
     "prompt_number": 108
    },
    {
     "cell_type": "code",
     "collapsed": false,
     "input": [
      "def get_PortfolioFactorsRiskMarginals(Wp, Lp):\n",
      "    portRisk = get_PortfolioRisk(Wp, Lp)\n",
      "    f_risk = Lp.dot(Wp)\n",
      "    f_risk = RiskFactors_Cov.dot(f_risk)\n",
      "    return (np.sqrt(f_risk) * np.sqrt(252) * 100 - portRisk ) / portRisk"
     ],
     "language": "python",
     "metadata": {},
     "outputs": [],
     "prompt_number": 109
    },
    {
     "cell_type": "heading",
     "level": 2,
     "metadata": {},
     "source": [
      "Simple Asset Loading Betas"
     ]
    },
    {
     "cell_type": "code",
     "collapsed": false,
     "input": [
      "AssetNAV_Returns_df = get_NAV_Returns('VFORX')\n",
      "AssetNAV_Returns_df.head()"
     ],
     "language": "python",
     "metadata": {},
     "outputs": [
      {
       "metadata": {},
       "output_type": "pyout",
       "prompt_number": 110,
       "text": [
        "Date\n",
        "2013-06-12    0.000733\n",
        "2013-06-13    0.013296\n",
        "2013-06-14   -0.005169\n",
        "2013-06-17    0.007194\n",
        "2013-06-18    0.005952\n",
        "Name: Adj Close, dtype: float64"
       ]
      }
     ],
     "prompt_number": 110
    },
    {
     "cell_type": "code",
     "collapsed": false,
     "input": [
      "AssetRealizedRisk = AssetNAV_Returns_df.std()\n",
      "AssetRealizedRisk * np.sqrt(252) * 100"
     ],
     "language": "python",
     "metadata": {},
     "outputs": [
      {
       "metadata": {},
       "output_type": "pyout",
       "prompt_number": 111,
       "text": [
        "9.841779801032617"
       ]
      }
     ],
     "prompt_number": 111
    },
    {
     "cell_type": "code",
     "collapsed": false,
     "input": [
      "AssetFactorsLoadings = get_AssetFactorsLoadings(AssetNAV_Returns_df)\n",
      "AssetFactorsLoadings"
     ],
     "language": "python",
     "metadata": {},
     "outputs": [
      {
       "metadata": {},
       "output_type": "pyout",
       "prompt_number": 112,
       "text": [
        "AGG     0.093923\n",
        "HYG     0.002347\n",
        "IEFA    0.190314\n",
        "IEMG    0.041129\n",
        "IJR     0.090489\n",
        "IVV     0.536716\n",
        "TIP     0.007009\n",
        "dtype: float64"
       ]
      }
     ],
     "prompt_number": 112
    },
    {
     "cell_type": "code",
     "collapsed": false,
     "input": [
      "AssetModeledRisk = np.sqrt(AssetFactorsLoadings.dot(RiskFactors_Cov.dot(AssetFactorsLoadings.T))) * np.sqrt(252) * 100\n",
      "AssetModeledRisk # to be compared to AssetRealizedRisk"
     ],
     "language": "python",
     "metadata": {},
     "outputs": [
      {
       "metadata": {},
       "output_type": "pyout",
       "prompt_number": 113,
       "text": [
        "9.800340415039086"
       ]
      }
     ],
     "prompt_number": 113
    },
    {
     "cell_type": "code",
     "collapsed": false,
     "input": [
      "# Calculate R square with the modeled asset's returns\n",
      "AssetModeled_Returns_df = RiskFactors_Returns_df.dot(AssetFactorsLoadings.T)\n",
      "get_Coeff_Determination(AssetNAV_Returns_df, AssetModeled_Returns_df)"
     ],
     "language": "python",
     "metadata": {},
     "outputs": [
      {
       "metadata": {},
       "output_type": "pyout",
       "prompt_number": 114,
       "text": [
        "0.99050819954175984"
       ]
      }
     ],
     "prompt_number": 114
    },
    {
     "cell_type": "heading",
     "level": 2,
     "metadata": {},
     "source": [
      "Asset Portfolio "
     ]
    },
    {
     "cell_type": "code",
     "collapsed": false,
     "input": [
      "PortfolioHoldings = { 'SPY':0.2, 'VFORX':0.5, 'JNK':0.1, 'FCNTX':0.2 } # Portfolio holdings and allocation (must sum to 1)"
     ],
     "language": "python",
     "metadata": {},
     "outputs": [],
     "prompt_number": 115
    },
    {
     "cell_type": "code",
     "collapsed": false,
     "input": [
      "Wp = Series(PortfolioHoldings) # vector of portfolio assets weights\n",
      "Wp"
     ],
     "language": "python",
     "metadata": {},
     "outputs": [
      {
       "metadata": {},
       "output_type": "pyout",
       "prompt_number": 116,
       "text": [
        "FCNTX    0.2\n",
        "JNK      0.1\n",
        "SPY      0.2\n",
        "VFORX    0.5\n",
        "dtype: float64"
       ]
      }
     ],
     "prompt_number": 116
    },
    {
     "cell_type": "code",
     "collapsed": false,
     "input": [
      "loadings_list = [] \n",
      "for key in PortfolioHoldings:\n",
      "    asset_returns = get_NAV_Returns(key)\n",
      "    asset_loadings = get_AssetFactorsLoadings(asset_returns)\n",
      "    asset_loadings.name = key\n",
      "    loadings_list.append(asset_loadings)"
     ],
     "language": "python",
     "metadata": {},
     "outputs": [],
     "prompt_number": 117
    },
    {
     "cell_type": "code",
     "collapsed": false,
     "input": [
      "Lp = pd.concat(loadings_list, axis = 1)\n",
      "Lp"
     ],
     "language": "python",
     "metadata": {},
     "outputs": [
      {
       "html": [
        "<div style=\"max-height:1000px;max-width:1500px;overflow:auto;\">\n",
        "<table border=\"1\" class=\"dataframe\">\n",
        "  <thead>\n",
        "    <tr style=\"text-align: right;\">\n",
        "      <th></th>\n",
        "      <th>VFORX</th>\n",
        "      <th>JNK</th>\n",
        "      <th>FCNTX</th>\n",
        "      <th>SPY</th>\n",
        "    </tr>\n",
        "  </thead>\n",
        "  <tbody>\n",
        "    <tr>\n",
        "      <th>AGG</th>\n",
        "      <td> 0.093923</td>\n",
        "      <td> 0.011846</td>\n",
        "      <td> 0.217512</td>\n",
        "      <td>-0.022285</td>\n",
        "    </tr>\n",
        "    <tr>\n",
        "      <th>HYG</th>\n",
        "      <td> 0.002347</td>\n",
        "      <td> 0.834914</td>\n",
        "      <td>-0.188076</td>\n",
        "      <td>-0.009085</td>\n",
        "    </tr>\n",
        "    <tr>\n",
        "      <th>IEFA</th>\n",
        "      <td> 0.190314</td>\n",
        "      <td> 0.034949</td>\n",
        "      <td> 0.009686</td>\n",
        "      <td>-0.005279</td>\n",
        "    </tr>\n",
        "    <tr>\n",
        "      <th>IEMG</th>\n",
        "      <td> 0.041129</td>\n",
        "      <td> 0.010095</td>\n",
        "      <td>-0.055336</td>\n",
        "      <td> 0.009074</td>\n",
        "    </tr>\n",
        "    <tr>\n",
        "      <th>IJR</th>\n",
        "      <td> 0.090489</td>\n",
        "      <td> 0.002380</td>\n",
        "      <td> 0.199136</td>\n",
        "      <td> 0.012259</td>\n",
        "    </tr>\n",
        "    <tr>\n",
        "      <th>IVV</th>\n",
        "      <td> 0.536716</td>\n",
        "      <td>-0.034956</td>\n",
        "      <td> 0.973733</td>\n",
        "      <td> 0.974474</td>\n",
        "    </tr>\n",
        "    <tr>\n",
        "      <th>TIP</th>\n",
        "      <td> 0.007009</td>\n",
        "      <td> 0.038043</td>\n",
        "      <td>-0.058878</td>\n",
        "      <td> 0.015206</td>\n",
        "    </tr>\n",
        "  </tbody>\n",
        "</table>\n",
        "<p>7 rows \u00d7 4 columns</p>\n",
        "</div>"
       ],
       "metadata": {},
       "output_type": "pyout",
       "prompt_number": 118,
       "text": [
        "         VFORX       JNK     FCNTX       SPY\n",
        "AGG   0.093923  0.011846  0.217512 -0.022285\n",
        "HYG   0.002347  0.834914 -0.188076 -0.009085\n",
        "IEFA  0.190314  0.034949  0.009686 -0.005279\n",
        "IEMG  0.041129  0.010095 -0.055336  0.009074\n",
        "IJR   0.090489  0.002380  0.199136  0.012259\n",
        "IVV   0.536716 -0.034956  0.973733  0.974474\n",
        "TIP   0.007009  0.038043 -0.058878  0.015206\n",
        "\n",
        "[7 rows x 4 columns]"
       ]
      }
     ],
     "prompt_number": 118
    },
    {
     "cell_type": "code",
     "collapsed": false,
     "input": [
      "PortfolioRisk = get_PortfolioRisk(Wp, Lp)\n",
      "PortfolioRisk # annualized standard deviation of return (in %)"
     ],
     "language": "python",
     "metadata": {},
     "outputs": [
      {
       "metadata": {},
       "output_type": "pyout",
       "prompt_number": 119,
       "text": [
        "9.7222906725791933"
       ]
      }
     ],
     "prompt_number": 119
    },
    {
     "cell_type": "code",
     "collapsed": false,
     "input": [
      "PortfolioSecuritiesRiskContributions = Wp * get_PortfolioSecuritiesRiskMarginals(Wp, Lp)\n",
      "PortfolioSecuritiesRiskContributions * 100 # shows securities contributions (in percent) to total portfolio risk"
     ],
     "language": "python",
     "metadata": {},
     "outputs": [
      {
       "metadata": {},
       "output_type": "pyout",
       "prompt_number": 120,
       "text": [
        "FCNTX    24.550970\n",
        "JNK       3.133087\n",
        "SPY      22.098752\n",
        "VFORX    50.217191\n",
        "dtype: float64"
       ]
      }
     ],
     "prompt_number": 120
    },
    {
     "cell_type": "code",
     "collapsed": false,
     "input": [
      "PortfolioFactorsRiskMarginals = get_PortfolioFactorsRiskMarginals(Wp, Lp)\n",
      "PortfolioFactorsRiskMarginals # factor marginals (negative value means adding to this factor decreases portfolio risk, and vice versa)"
     ],
     "language": "python",
     "metadata": {},
     "outputs": [
      {
       "metadata": {},
       "output_type": "pyout",
       "prompt_number": 121,
       "text": [
        "AGG    -0.789643\n",
        "HYG    -0.408023\n",
        "IEFA    0.083990\n",
        "IEMG    0.175880\n",
        "IJR     0.154085\n",
        "IVV     0.055698\n",
        "TIP    -0.840800\n",
        "dtype: float64"
       ]
      }
     ],
     "prompt_number": 121
    },
    {
     "cell_type": "code",
     "collapsed": false,
     "input": [],
     "language": "python",
     "metadata": {},
     "outputs": [],
     "prompt_number": 121
    }
   ],
   "metadata": {}
  }
 ]
}